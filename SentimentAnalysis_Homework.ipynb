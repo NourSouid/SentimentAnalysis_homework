{
 "cells": [
  {
   "cell_type": "code",
   "execution_count": 10,
   "metadata": {},
   "outputs": [],
   "source": [
    "import csv\n",
    "import tweepy\n",
    "from textblob import TextBlob\n",
    "\n",
    "# Step 1 - Authenticate\n",
    "consumer_key= '...'\n",
    "consumer_secret= '...'\n",
    "\n",
    "access_token='...'\n",
    "access_token_secret='...'\n",
    "\n",
    "auth = tweepy.OAuthHandler(consumer_key, consumer_secret)\n",
    "auth.set_access_token(access_token, access_token_secret)\n",
    "\n",
    "api = tweepy.API(auth)\n",
    "\n",
    "#Step 3 - Retrieve Tweets\n",
    "public_tweets = api.search('Election')\n",
    "\n",
    "\n",
    "\n",
    "csvData = [['tweet', 'sentiment', 'Label']]\n",
    "\n",
    "with open('tweets.csv', 'w') as csvFile:\n",
    "    writer = csv.writer(csvFile)\n",
    "    writer.writerows(csvData)\n",
    "    \n",
    "    for tweet in public_tweets:\n",
    "        analysis = TextBlob(tweet.text)\n",
    "        if (analysis.sentiment.polarity >0):\n",
    "            label = 'Positive'\n",
    "        elif analysis.sentiment.polarity >0:\n",
    "            label = 'Negative'\n",
    "        else :\n",
    "            label = 'Neutral'\n",
    "       \n",
    "        \n",
    "        lines=[[tweet.text.encode(\"utf-8\"), analysis.sentiment, label]]\n",
    "        writer.writerows(lines)\n",
    "    \n",
    "csvFile.close()"
   ]
  },
  {
   "cell_type": "code",
   "execution_count": null,
   "metadata": {},
   "outputs": [],
   "source": []
  }
 ],
 "metadata": {
  "kernelspec": {
   "display_name": "Python 3",
   "language": "python",
   "name": "python3"
  },
  "language_info": {
   "codemirror_mode": {
    "name": "ipython",
    "version": 3
   },
   "file_extension": ".py",
   "mimetype": "text/x-python",
   "name": "python",
   "nbconvert_exporter": "python",
   "pygments_lexer": "ipython3",
   "version": "3.7.2"
  }
 },
 "nbformat": 4,
 "nbformat_minor": 2
}
